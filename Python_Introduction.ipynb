{
  "nbformat": 4,
  "nbformat_minor": 0,
  "metadata": {
    "colab": {
      "provenance": [],
      "toc_visible": true,
      "authorship_tag": "ABX9TyMeX1bhnzBeJ16DkZtVuWuC",
      "include_colab_link": true
    },
    "kernelspec": {
      "name": "python3",
      "display_name": "Python 3"
    },
    "language_info": {
      "name": "python"
    }
  },
  "cells": [
    {
      "cell_type": "markdown",
      "metadata": {
        "id": "view-in-github",
        "colab_type": "text"
      },
      "source": [
        "<a href=\"https://colab.research.google.com/github/LabialzernanJRT/CPE-103-OOP-1-A/blob/main/Python_Introduction.ipynb\" target=\"_parent\"><img src=\"https://colab.research.google.com/assets/colab-badge.svg\" alt=\"Open In Colab\"/></a>"
      ]
    },
    {
      "cell_type": "markdown",
      "source": [
        "Python Indentation"
      ],
      "metadata": {
        "id": "5PzHBkA-FzGT"
      }
    },
    {
      "cell_type": "code",
      "source": [
        "if 5 > 2:\n",
        "    print(\"Five is greater than two!\")"
      ],
      "metadata": {
        "colab": {
          "base_uri": "https://localhost:8080/"
        },
        "id": "QnHZ3pHfF5rs",
        "outputId": "77ff8ac8-71af-4eae-b414-49e5fdfa4a85"
      },
      "execution_count": 15,
      "outputs": [
        {
          "output_type": "stream",
          "name": "stdout",
          "text": [
            "Five is greater than two!\n"
          ]
        }
      ]
    },
    {
      "cell_type": "markdown",
      "source": [
        "Python Comment"
      ],
      "metadata": {
        "id": "0U72nTgsItsF"
      }
    },
    {
      "cell_type": "code",
      "source": [
        "#print the world \"hello world\" << this is the comment\n",
        "print(\"Hello, World!\")"
      ],
      "metadata": {
        "colab": {
          "base_uri": "https://localhost:8080/"
        },
        "id": "YMhBI2mMIyTl",
        "outputId": "0de00151-bcaf-4855-c5f1-2675914b3408"
      },
      "execution_count": 69,
      "outputs": [
        {
          "output_type": "stream",
          "name": "stdout",
          "text": [
            "Hello, World!\n"
          ]
        }
      ]
    },
    {
      "cell_type": "markdown",
      "source": [
        "Variable Naming Conventions"
      ],
      "metadata": {
        "id": "4uqewPITJh9d"
      }
    },
    {
      "cell_type": "code",
      "source": [
        "myvar = \"John\"\n",
        "_my_var = \"John\"\n",
        "myVar = \"John\"\n",
        "MYVAR = \"John\"\n",
        "myvar2 = \"John\""
      ],
      "metadata": {
        "id": "Or4wkevzK8KF"
      },
      "execution_count": 70,
      "outputs": []
    },
    {
      "cell_type": "markdown",
      "source": [
        "Python Variable"
      ],
      "metadata": {
        "id": "cQZfapTcK8ht"
      }
    },
    {
      "cell_type": "code",
      "source": [
        "x = 1\n",
        "a, b=0,-1\n",
        "a, b, c=0,-1, 2"
      ],
      "metadata": {
        "id": "Bky55bepJzFF"
      },
      "execution_count": 71,
      "outputs": []
    },
    {
      "cell_type": "markdown",
      "source": [
        "Casting"
      ],
      "metadata": {
        "id": "xssJlz1ONIRe"
      }
    },
    {
      "cell_type": "code",
      "source": [
        "b=\"sally\" #This is a type of string\n",
        "b=int(4)\n",
        "print(b)\n",
        "\n",
        "b=float(4)\n",
        "print(b)\n",
        "\n",
        "b=float(4)\n",
        "print(b)"
      ],
      "metadata": {
        "colab": {
          "base_uri": "https://localhost:8080/"
        },
        "id": "gxX5zhQNL_0u",
        "outputId": "edea340d-20dc-4bc3-bd5b-c35187b8a2d8"
      },
      "execution_count": 72,
      "outputs": [
        {
          "output_type": "stream",
          "name": "stdout",
          "text": [
            "4\n",
            "4.0\n",
            "4.0\n"
          ]
        }
      ]
    },
    {
      "cell_type": "markdown",
      "source": [
        "Type() function"
      ],
      "metadata": {
        "id": "IACrXzZ7N5zV"
      }
    },
    {
      "cell_type": "code",
      "source": [
        "x = 5\n",
        "y = \"John\"\n",
        "print(type(x))\n",
        "print(type(y))\n",
        "print(type(y))"
      ],
      "metadata": {
        "colab": {
          "base_uri": "https://localhost:8080/"
        },
        "id": "BKAeTo06N6J2",
        "outputId": "36e093ce-bab8-42c0-b377-d5be92013520"
      },
      "execution_count": 30,
      "outputs": [
        {
          "output_type": "stream",
          "name": "stdout",
          "text": [
            "<class 'int'>\n",
            "<class 'str'>\n",
            "<class 'str'>\n"
          ]
        }
      ]
    },
    {
      "cell_type": "markdown",
      "source": [
        "“Double quotes” or ‘Single’ quotes"
      ],
      "metadata": {
        "id": "--O2k84RN6ld"
      }
    },
    {
      "cell_type": "code",
      "source": [
        "y = \"John\"\n",
        "y = 'John'"
      ],
      "metadata": {
        "id": "CglyxOwjN63e"
      },
      "execution_count": 32,
      "outputs": []
    },
    {
      "cell_type": "markdown",
      "source": [
        "Case sensitive"
      ],
      "metadata": {
        "id": "e7B4D06LOkZl"
      }
    },
    {
      "cell_type": "code",
      "source": [
        "a = 4\n",
        "A = \"Sally\""
      ],
      "metadata": {
        "id": "RP8XwT8oOkwO"
      },
      "execution_count": 34,
      "outputs": []
    },
    {
      "cell_type": "markdown",
      "source": [
        "Multiple Variables"
      ],
      "metadata": {
        "id": "W0y6vlhROlL-"
      }
    },
    {
      "cell_type": "code",
      "source": [
        "x, y, z = \"one\", \"two\", \"three\"\n",
        "print(x)\n",
        "print(y)\n",
        "print(z)"
      ],
      "metadata": {
        "colab": {
          "base_uri": "https://localhost:8080/"
        },
        "id": "0yJFSSpdOllN",
        "outputId": "384e63a9-d729-4561-beae-5e177dc7b43d"
      },
      "execution_count": 37,
      "outputs": [
        {
          "output_type": "stream",
          "name": "stdout",
          "text": [
            "one\n",
            "two\n",
            "three\n"
          ]
        }
      ]
    },
    {
      "cell_type": "markdown",
      "source": [
        "One Value to Multiple Variables"
      ],
      "metadata": {
        "id": "uaW8WcJRPCeA"
      }
    },
    {
      "cell_type": "code",
      "source": [
        "x = y = z = \"four\"\n",
        "print(x)\n",
        "print(y)\n",
        "print(z)\n",
        "print(z)"
      ],
      "metadata": {
        "colab": {
          "base_uri": "https://localhost:8080/"
        },
        "id": "16oRHcRUPCw2",
        "outputId": "b681bb3a-5b51-4937-ed87-8122c96c1155"
      },
      "execution_count": 68,
      "outputs": [
        {
          "output_type": "stream",
          "name": "stdout",
          "text": [
            "four\n",
            "four\n",
            "four\n",
            "four\n"
          ]
        }
      ]
    },
    {
      "cell_type": "markdown",
      "source": [
        "Output Variables"
      ],
      "metadata": {
        "id": "eukvhxxuPDF2"
      }
    },
    {
      "cell_type": "code",
      "source": [
        "x = \"enjoying\"\n",
        "print(\"Python programming is \" + x)\n",
        "\n",
        "#other ways\n",
        "x = \"Python is \"\n",
        "y = \"enjoying\"\n",
        "z = x + y\n",
        "print(z)\n",
        "print(z)\n",
        "print(z)\n",
        "print(z)"
      ],
      "metadata": {
        "colab": {
          "base_uri": "https://localhost:8080/"
        },
        "id": "ptxyO7qkPDb_",
        "outputId": "2af346c5-5f21-4d9d-9f93-17c0dec762c1"
      },
      "execution_count": 44,
      "outputs": [
        {
          "output_type": "stream",
          "name": "stdout",
          "text": [
            "Python programming is enjoying\n",
            "Python is enjoying\n",
            "Python is enjoying\n",
            "Python is enjoying\n",
            "Python is enjoying\n"
          ]
        }
      ]
    },
    {
      "cell_type": "markdown",
      "source": [
        "Arithmetic Operations"
      ],
      "metadata": {
        "id": "Mw7vGh6TPpXe"
      }
    },
    {
      "cell_type": "code",
      "source": [
        "# Addition ( + )\n",
        "# x + y\n",
        "\n",
        "# Substraction( - )\n",
        "# x - y\n",
        "\n",
        "\n",
        "# Multiplication ( * )\n",
        "# x * y\n",
        "\n",
        "\n",
        "# Division ( / )\n",
        "# x / y\n",
        "\n",
        "\n",
        "# Exponentiation ( ** )\n",
        "# x ** y\n",
        "\n",
        "\n",
        "# Modulus ( % )\n",
        "# x % y\n",
        "\n",
        "\n",
        "# Floor division ( // )\n",
        "# x // y\n",
        "\n",
        "\n",
        "#Example:\n",
        "x = 5\n",
        "y = 3\n",
        "print (x + y)\n",
        "\n",
        "x=5\n",
        "y=3\n",
        "sum=x+y\n",
        "sum"
      ],
      "metadata": {
        "colab": {
          "base_uri": "https://localhost:8080/"
        },
        "collapsed": true,
        "id": "sbiXdbdjPpn-",
        "outputId": "fa52017f-173d-41f4-efa1-3651b203ef60"
      },
      "execution_count": 73,
      "outputs": [
        {
          "output_type": "stream",
          "name": "stdout",
          "text": [
            "8\n"
          ]
        },
        {
          "output_type": "execute_result",
          "data": {
            "text/plain": [
              "8"
            ]
          },
          "metadata": {},
          "execution_count": 73
        }
      ]
    },
    {
      "cell_type": "markdown",
      "source": [
        "Assignment Operators"
      ],
      "metadata": {
        "id": "bXTLuy0mPp1W"
      }
    },
    {
      "cell_type": "code",
      "source": [
        "# Assignment Operators\n",
        "\n",
        "# =\tx = 5\tx = 5\n",
        "x = 5\n",
        "print(x)\n",
        "\n",
        "# +=\tx += 3\tx = x + 3\n",
        "x += 3  # Equivalent to x = x + 3\n",
        "print(x)\n",
        "\n",
        "# -=\tx -= 3\tx = x - 3\n",
        "x -= 3  # Equivalent to x = x - 3\n",
        "print(x)\n",
        "\n",
        "# *=\tx *= 3\tx = x * 3\n",
        "x *= 3  # Equivalent to x = x * 3\n",
        "print(x)\n",
        "\n",
        "# /=\tx /= 3\tx = x / 3\n",
        "x /= 3  # Equivalent to x = x / 3\n",
        "print(x)\n",
        "\n",
        "# %=\tx %= 3\tx = x % 3\n",
        "x %= 3  # Equivalent to x = x % 3\n",
        "print(x)\n",
        "\n",
        "# //=\tx //= 3\tx = x // 3\n",
        "x = 5 #reset x\n",
        "x //= 3  # Equivalent to x = x // 3\n",
        "print(x)\n",
        "\n",
        "# **=\tx **= 3\tx = x ** 3\n",
        "x **= 3  # Equivalent to x = x ** 3\n",
        "print(x)\n",
        "\n",
        "# &=\tx &= 3\tx = x & 3\n",
        "x = 5 #reset x\n",
        "x &= 3  # Equivalent to x = x & 3\n",
        "print(x)\n",
        "\n",
        "# |=\tx |= 3\tx = x | 3\n",
        "x |= 3  # Equivalent to x = x | 3\n",
        "print(x)\n",
        "\n",
        "# ^=\tx ^= 3\tx = x ^ 3\n",
        "x ^= 3  # Equivalent to x = x ^ 3\n",
        "print(x)\n",
        "\n",
        "# >>=\tx >>= 3\tx = x >> 3\n",
        "x >>= 3  # Equivalent to x = x >> 3\n",
        "print(x)\n",
        "\n",
        "# <<=\tx <<= 3\tx = x << 3\n",
        "x <<= 3  # Equivalent to x = x << 3\n",
        "x"
      ],
      "metadata": {
        "colab": {
          "base_uri": "https://localhost:8080/"
        },
        "id": "H7XiPTKVPqLF",
        "outputId": "9af8ab98-27f2-4601-9738-6eacee3318be"
      },
      "execution_count": 74,
      "outputs": [
        {
          "output_type": "stream",
          "name": "stdout",
          "text": [
            "5\n",
            "8\n",
            "5\n",
            "15\n",
            "5.0\n",
            "2.0\n",
            "1\n",
            "1\n",
            "1\n",
            "3\n",
            "0\n",
            "0\n"
          ]
        },
        {
          "output_type": "execute_result",
          "data": {
            "text/plain": [
              "0"
            ]
          },
          "metadata": {},
          "execution_count": 74
        }
      ]
    },
    {
      "cell_type": "markdown",
      "source": [
        "Comparison Operators"
      ],
      "metadata": {
        "id": "vCGQsNawT_8w"
      }
    },
    {
      "cell_type": "code",
      "source": [
        "# Comparison Operators\n",
        "\n",
        "# ==\tEqual\tx == y\n",
        "x = 5\n",
        "y = 3\n",
        "print(x == y)  # Output: False\n",
        "\n",
        "# !=\tNot equal\tx != y\n",
        "print(x != y)  # Output: True\n",
        "\n",
        "# >\tGreater than\tx > y\n",
        "print(x > y)  # Output: True\n",
        "\n",
        "# <\tLess than\tx < y\n",
        "print(x < y)  # Output: False\n",
        "\n",
        "# >=\tGreater than or equal to\tx >= y\n",
        "print(x >= y)  # Output: True\n",
        "\n",
        "# <=\tLess than or equal to\tx <= y\n",
        "print(x <= y)  # Output: False"
      ],
      "metadata": {
        "colab": {
          "base_uri": "https://localhost:8080/"
        },
        "id": "Qi0QiXRKTpM5",
        "outputId": "fb7c6dd3-e3ca-4635-e3cb-07511e78a07a"
      },
      "execution_count": 60,
      "outputs": [
        {
          "output_type": "stream",
          "name": "stdout",
          "text": [
            "False\n",
            "True\n",
            "True\n",
            "False\n",
            "True\n",
            "False\n"
          ]
        }
      ]
    },
    {
      "cell_type": "markdown",
      "source": [
        "Logical Operators"
      ],
      "metadata": {
        "id": "8kgtR-GnUkfA"
      }
    },
    {
      "cell_type": "code",
      "source": [
        "# Logical Operators\n",
        "\n",
        "# and Returns True if both statements are true\n",
        "x = 5\n",
        "print(x > 3 and x < 10)  # Output: True\n",
        "\n",
        "# or Returns True if one of the statements is true\n",
        "print(x > 3 or x < 4)  # Output: True\n",
        "\n",
        "# not Reverse the result, returns False if the result is true\n",
        "print(not(x > 3 and x < 10))  # Output: False\n",
        "\n",
        "# Logical Operators\n",
        "\n",
        "# and Returns True if both statements are true\n",
        "x = 5\n",
        "print(x > 3 and x < 10)  # Output: True\n",
        "\n",
        "# or Returns True if one of the statements is true\n",
        "print(x > 3 or x < 4)  # Output: True\n",
        "\n",
        "# not Reverse the result, returns False if the result is true\n",
        "print(not(x > 3 and x < 10))  # Output: False\n",
        "\n",
        "# Example:\n",
        "a,b,c=0,-1,6\n",
        "print(a>b and c>b) #True"
      ],
      "metadata": {
        "colab": {
          "base_uri": "https://localhost:8080/"
        },
        "id": "Jr7y22NUUkr_",
        "outputId": "2f59aa27-c62e-411d-e4c0-0241cacdd4a4"
      },
      "execution_count": 75,
      "outputs": [
        {
          "output_type": "stream",
          "name": "stdout",
          "text": [
            "True\n",
            "True\n",
            "False\n",
            "True\n",
            "True\n",
            "False\n",
            "True\n"
          ]
        }
      ]
    },
    {
      "cell_type": "markdown",
      "source": [
        "Identity Operators"
      ],
      "metadata": {
        "id": "K1aCSThJUlXo"
      }
    },
    {
      "cell_type": "code",
      "source": [
        "# Identity Operators\n",
        "\n",
        "# is Returns True if both variables are the same object\n",
        "x = [\"apple\", \"banana\"]\n",
        "y = [\"apple\", \"banana\"]\n",
        "z = x\n",
        "\n",
        "print(x is z)  # Output: True (x and z refer to the same object)\n",
        "print(x is y)  # Output: False (x and y have the same content, but are different objects)\n",
        "print(x == y)  # Output: True (x and y have the same content)\n",
        "\n",
        "# is not Returns True if both variables are not the same object\n",
        "print(x is not z)  # Output: False\n",
        "print(x is not y)  # Output: True\n",
        "print(x != y)  # Output: False\n",
        "\n",
        "# Identity Operators\n",
        "\n",
        "# is Returns True if both variables are the same object\n",
        "x = [\"apple\", \"banana\"]\n",
        "y = [\"apple\", \"banana\"]\n",
        "z = x\n",
        "\n",
        "print(x is z)  # Output: True (x and z refer to the same object)\n",
        "print(x is y)  # Output: False (x and y have the same content, but are different objects)\n",
        "print(x == y)  # Output: True (x and y have the same content)\n",
        "\n",
        "# is not Returns True if both variables are not the same object\n",
        "print(x is not z)  # Output: False\n",
        "print(x is not y)  # Output: True\n",
        "print(x != y)  # Output: False\n",
        "\n",
        "# Example:\n",
        "a,b,c=0,-1,5\n",
        "print(a is c) # False"
      ],
      "metadata": {
        "colab": {
          "base_uri": "https://localhost:8080/"
        },
        "id": "Ln4UCg9LUlpf",
        "outputId": "087a894e-d71d-4188-cda3-73c5325473ce"
      },
      "execution_count": 66,
      "outputs": [
        {
          "output_type": "stream",
          "name": "stdout",
          "text": [
            "True\n",
            "False\n",
            "True\n",
            "False\n",
            "True\n",
            "False\n",
            "True\n",
            "False\n",
            "True\n",
            "False\n",
            "True\n",
            "False\n",
            "False\n"
          ]
        }
      ]
    },
    {
      "cell_type": "markdown",
      "source": [
        "Bitwise Operators"
      ],
      "metadata": {
        "id": "i-Ebrq7sVMDH"
      }
    },
    {
      "cell_type": "code",
      "source": [
        "# Bitwise Operators\n",
        "\n",
        "# &\tAND\tSets each bit to 1 if both bits are 1\n",
        "print(5 & 3)  # Output: 1 (Binary: 101 & 011 = 001)\n",
        "\n",
        "# |\tOR\tSets each bit to 1 if one of two bits is 1\n",
        "print(5 | 3)  # Output: 7 (Binary: 101 | 011 = 111)\n",
        "\n",
        "# ^\tXOR\tSets each bit to 1 if only one of two bits is 1\n",
        "print(5 ^ 3)  # Output: 6 (Binary: 101 ^ 011 = 110)\n",
        "\n",
        "# ~\tNOT\tInverts all the bits\n",
        "print(~5)  # Output: -6 (Binary: ~101 = -110)\n",
        "\n",
        "# <<\tZero fill left shift\tShift left by pushing zeros in from the right and let the leftmost bits fall off\n",
        "print(5 << 1)  # Output: 10 (Binary: 101 << 1 = 1010)\n",
        "\n",
        "# >>\tSigned right shift\tShift right by pushing copies of the leftmost bit in from the left, and let the rightmost bits fall off\n",
        "print(5 >> 1)  # Output: 2 (Binary: 101 >> 1 = 010)\n",
        "\n",
        "\n",
        "# Examples\n",
        "a = 10  # Binary: 1010\n",
        "b = 4   # Binary: 0100\n",
        "\n",
        "print(a & b)  # Output: 0 (1010 & 0100 = 0000)\n",
        "print(a | b)  # Output: 14 (1010 | 0100 = 1110)\n",
        "print(a ^ b)  # Output: 14 (1010 ^ 0100 = 1110)\n",
        "print(~a)   # Output: -11 (Inverts bits of a)\n",
        "print(a << 2) # Output: 40  (1010 << 2 = 101000)\n",
        "print(a >> 2) # Output: 2   (1010 >> 2 = 0010)"
      ],
      "metadata": {
        "colab": {
          "base_uri": "https://localhost:8080/"
        },
        "id": "TnTGqdk1VMSH",
        "outputId": "64e8dafe-dc33-4972-a138-27fe3e64430b"
      },
      "execution_count": 76,
      "outputs": [
        {
          "output_type": "stream",
          "name": "stdout",
          "text": [
            "1\n",
            "7\n",
            "6\n",
            "-6\n",
            "10\n",
            "2\n",
            "0\n",
            "14\n",
            "14\n",
            "-11\n",
            "40\n",
            "2\n"
          ]
        }
      ]
    },
    {
      "cell_type": "markdown",
      "source": [
        "Application #1"
      ],
      "metadata": {
        "id": "9Y88PxH7YUjg"
      }
    },
    {
      "cell_type": "code",
      "source": [
        "# Application First\n",
        "\n",
        "#Area of plane Rectangle, Circle, and Triangle in cm\n",
        "\n",
        "# Area of the Rectangle\n",
        "length = 20\n",
        "height = 10\n",
        "area = length * height\n",
        "print(\"Area(Rectangle) =\", area ,\"sq.cm\")\n",
        "\n",
        "# Area of the Circle\n",
        "pi = 3.1416\n",
        "radius = 10\n",
        "area = 3.1416 * (radius ** 2)\n",
        "print(\"Area(Circle) =\", area ,\"sq.cm\")\n",
        "\n",
        "# Area of the Triangle\n",
        "length = 10\n",
        "height = 5\n",
        "area = 0.5 * length * height\n",
        "print(\"Area(Triangle) =\", area ,\"sq.cm\")"
      ],
      "metadata": {
        "colab": {
          "base_uri": "https://localhost:8080/"
        },
        "id": "YcGXSIPjYYax",
        "outputId": "b050a8d3-56fd-4700-f8d7-aa4be275f6a1"
      },
      "execution_count": 91,
      "outputs": [
        {
          "output_type": "stream",
          "name": "stdout",
          "text": [
            "Area(Rectangle) = 200 sq.cm\n",
            "Area(Circle) = 314.15999999999997 sq.cm\n",
            "Area(Triangle) = 25.0 sq.cm\n"
          ]
        }
      ]
    }
  ]
}