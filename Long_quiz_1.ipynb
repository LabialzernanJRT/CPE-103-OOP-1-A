{
  "nbformat": 4,
  "nbformat_minor": 0,
  "metadata": {
    "colab": {
      "provenance": [],
      "authorship_tag": "ABX9TyP5bZ4+XQKsdQC9qmCdVmpp",
      "include_colab_link": true
    },
    "kernelspec": {
      "name": "python3",
      "display_name": "Python 3"
    },
    "language_info": {
      "name": "python"
    }
  },
  "cells": [
    {
      "cell_type": "markdown",
      "metadata": {
        "id": "view-in-github",
        "colab_type": "text"
      },
      "source": [
        "<a href=\"https://colab.research.google.com/github/LabialzernanJRT/CPE-103-OOP-1-A/blob/main/Long_quiz_1.ipynb\" target=\"_parent\"><img src=\"https://colab.research.google.com/assets/colab-badge.svg\" alt=\"Open In Colab\"/></a>"
      ]
    },
    {
      "cell_type": "code",
      "execution_count": null,
      "metadata": {
        "id": "z705bA_253lL"
      },
      "outputs": [],
      "source": [
        "class Student():\n",
        "  def __init__(self, studentName, schoolId, program, sex, weight, height):\n",
        "    self.studentName = studentName\n",
        "    self.school_id = schoolId\n",
        "    self.program = program\n",
        "    self.sex = sex\n",
        "    self.weight =  weight\n",
        "    self.height = height\n",
        "\n",
        "  def getstudent_name(self):\n",
        "    return self.studentName\n",
        "  def setstudent_name(self, new_studentName):\n",
        "    self.new_studentName\n",
        "\n",
        "  def getschool_id(self):\n",
        "    return self.school_id\n",
        "  def setschool_id(self, new_school_id):\n",
        "   self.new_schoolId\n",
        "\n",
        "  def getprogram(self):\n",
        "    return self.program\n",
        "  def setprogram(self, new_program):\n",
        "    self.new_program\n",
        "\n",
        "  def getsex(self):\n",
        "    return self.sex\n",
        "  def setsex(self, new_sex):\n",
        "    self.new_sex\n",
        "\n",
        "  def getweight(self):\n",
        "    return self.weight\n",
        "  def setweight(self):\n",
        "    self.new_weight\n",
        "\n",
        "  def getheight(self):\n",
        "    return self.height\n",
        "  def setheight(self):\n",
        "    self.new_height\n",
        "\n",
        "    student1 = Student(\"student info\")\n",
        "    print(student1.getstudent_name())\n",
        "    print(student1.getschool_id())\n",
        "    print(student1.getprogram())\n",
        "    print(student1.getsex())\n",
        "    print(student1.getweight())\n",
        "    print(student1.getheight())"
      ]
    },
    {
      "cell_type": "code",
      "source": [],
      "metadata": {
        "id": "etojduo9_IVo"
      },
      "execution_count": null,
      "outputs": []
    }
  ]
}