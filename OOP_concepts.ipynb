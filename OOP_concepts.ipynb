{
  "nbformat": 4,
  "nbformat_minor": 0,
  "metadata": {
    "colab": {
      "provenance": [],
      "authorship_tag": "ABX9TyON9hm47NmrGmsRjdB8/zFP",
      "include_colab_link": true
    },
    "kernelspec": {
      "name": "python3",
      "display_name": "Python 3"
    },
    "language_info": {
      "name": "python"
    }
  },
  "cells": [
    {
      "cell_type": "markdown",
      "metadata": {
        "id": "view-in-github",
        "colab_type": "text"
      },
      "source": [
        "<a href=\"https://colab.research.google.com/github/LabialzernanJRT/CPE-103-OOP-1-A/blob/main/OOP_concepts.ipynb\" target=\"_parent\"><img src=\"https://colab.research.google.com/assets/colab-badge.svg\" alt=\"Open In Colab\"/></a>"
      ]
    },
    {
      "cell_type": "markdown",
      "source": [
        "Class Constructor"
      ],
      "metadata": {
        "id": "AGO4Ywk_xKCv"
      }
    },
    {
      "cell_type": "code",
      "execution_count": 6,
      "metadata": {
        "id": "HmS0pRCew04v"
      },
      "outputs": [],
      "source": [
        "class Car:\n",
        "  def init (self, name, color, wheel):\n",
        "    self . name = name\n",
        "    self . color = color\n",
        "    self . wheel = wheel"
      ]
    },
    {
      "cell_type": "markdown",
      "source": [
        "Method"
      ],
      "metadata": {
        "id": "M2N6nFuT-Ucv"
      }
    },
    {
      "cell_type": "code",
      "source": [
        "class car:\n",
        " car_type= \"sudan\"\n",
        " def __init__(self, name, mileage):\n",
        "   self.name = name\n",
        "   self.mileage = mileage\n",
        "\n",
        " def description(self):\n",
        "   return f\"The {self.name} car gives the mileage of {self.mileage}km/l\"\n",
        "\n",
        "   def max_speed(self, speed):\n",
        "     return f\"The {self.name} runs at the maximum speed of {speed}km/hr\""
      ],
      "metadata": {
        "id": "Hh44v1POSzWZ"
      },
      "execution_count": 47,
      "outputs": []
    },
    {
      "cell_type": "markdown",
      "source": [
        "Multiple Objects"
      ],
      "metadata": {
        "id": "BOKuFKgp_5ZH"
      }
    },
    {
      "cell_type": "code",
      "source": [
        "class Car:\n",
        "  def __init__ (self, name, mileage):\n",
        "    self.name = name\n",
        "    self.mileage = mileage\n",
        "\n",
        "    def description (self):\n",
        "      return f\"The {self . name} car gives the mileage of {self.mileage}km/l\"\n",
        "\n",
        "class Toyota(Car):\n",
        "  pass\n",
        "\n",
        "class BMW(Car):\n",
        "  def  BMW_desc(self):\n",
        "    return f\"This is the description of the class BMW\"\n",
        "\n",
        "bmw = BMW(\"BMW 8-series\", 39.53)\n",
        "print(bmw.BMW_desc())"
      ],
      "metadata": {
        "colab": {
          "base_uri": "https://localhost:8080/"
        },
        "id": "60JM451UACLv",
        "outputId": "b31e143b-1a9c-4166-a70d-f5e9b12e4b9f"
      },
      "execution_count": 19,
      "outputs": [
        {
          "output_type": "stream",
          "name": "stdout",
          "text": [
            "This is the description of the class BMW\n"
          ]
        }
      ]
    },
    {
      "cell_type": "markdown",
      "source": [
        "Difficult Question"
      ],
      "metadata": {
        "id": "aGP1FrElMWYY"
      }
    },
    {
      "cell_type": "code",
      "source": [
        "\n",
        "choice = int(input(\"\"\"choose a shape\n",
        "1.triangle\n",
        "2.square\n",
        "3.rectangle\n",
        "4.pentagon\n",
        "5.hexagon\n",
        "\"\"\"))\n",
        "\n",
        "\n",
        "class shape:\n",
        "  def __init__(self, name, sides):\n",
        "    self.name = name\n",
        "    self.sides = sides\n",
        "\n",
        "  def description(self):\n",
        "    return f\"{self.name} has {self.sides} sides\"\n",
        "\n",
        "class triangle(shape):\n",
        "  pass\n",
        "\n",
        "class square(shape):\n",
        "  pass\n",
        "\n",
        "class rectangle(shape):\n",
        "  pass\n",
        "\n",
        "class pentagon(shape):\n",
        "  pass\n",
        "\n",
        "class hexagon(shape):\n",
        "  def hexagon_desc(self):\n",
        "    return f\"This is the description of the class hexagon\"\n",
        "\n",
        "if choice == 1:\n",
        "  triangle = triangle(\"triangle\", 3)\n",
        "  print(triangle.description())\n",
        "elif choice == 2:\n",
        "  square = square(\"square\", 4)\n",
        "  print(square.description())\n",
        "elif choice == 3:\n",
        "  rectangle = rectangle(\"rectangle\", 4)\n",
        "  print(rectangle.description())\n",
        "elif choice == 4:\n",
        "  pentagon = pentagon(\"pentagon\", 5)\n",
        "  print(pentagon.description())\n",
        "elif choice == 5:\n",
        "  hexagon = hexagon(\"hexagon\", 6)\n",
        "  print(hexagon.description())\n",
        "else:\n",
        "  print(\"invalid choice\")"
      ],
      "metadata": {
        "colab": {
          "base_uri": "https://localhost:8080/"
        },
        "id": "Lq59rdJyMWnw",
        "outputId": "7ac918d7-2432-4ff3-8f44-23d1cf20d6ee"
      },
      "execution_count": 43,
      "outputs": [
        {
          "output_type": "stream",
          "name": "stdout",
          "text": [
            "choose a shape \n",
            "1.triangle \n",
            "2.square \n",
            "3.rectangle \n",
            "4.pentagon \n",
            "5.hexagon\n",
            "5\n",
            "hexagon has 6 sides\n"
          ]
        }
      ]
    },
    {
      "cell_type": "markdown",
      "source": [],
      "metadata": {
        "id": "gkpVR0CWGNkA"
      }
    }
  ]
}