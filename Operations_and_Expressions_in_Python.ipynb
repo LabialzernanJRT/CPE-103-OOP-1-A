{
  "nbformat": 4,
  "nbformat_minor": 0,
  "metadata": {
    "colab": {
      "provenance": [],
      "authorship_tag": "ABX9TyM8LPvjilLR1l7XZQYKkbKr",
      "include_colab_link": true
    },
    "kernelspec": {
      "name": "python3",
      "display_name": "Python 3"
    },
    "language_info": {
      "name": "python"
    }
  },
  "cells": [
    {
      "cell_type": "markdown",
      "metadata": {
        "id": "view-in-github",
        "colab_type": "text"
      },
      "source": [
        "<a href=\"https://colab.research.google.com/github/LabialzernanJRT/CPE-103-OOP-1-A/blob/main/Operations_and_Expressions_in_Python.ipynb\" target=\"_parent\"><img src=\"https://colab.research.google.com/assets/colab-badge.svg\" alt=\"Open In Colab\"/></a>"
      ]
    },
    {
      "cell_type": "markdown",
      "source": [
        "***Booolean Operation***"
      ],
      "metadata": {
        "id": "MaQr5A8swwEX"
      }
    },
    {
      "cell_type": "code",
      "execution_count": 7,
      "metadata": {
        "colab": {
          "base_uri": "https://localhost:8080/"
        },
        "id": "RPX-jadowvGf",
        "outputId": "05c016a0-dce1-4bf6-b82b-eab6338ffb42"
      },
      "outputs": [
        {
          "output_type": "stream",
          "name": "stdout",
          "text": [
            "True\n",
            "False\n",
            "False\n"
          ]
        }
      ],
      "source": [
        "print(10 > 9)\n",
        "print(10 == 9)\n",
        "print(10 < 9)"
      ]
    },
    {
      "cell_type": "markdown",
      "source": [
        "***bool() Function***"
      ],
      "metadata": {
        "id": "c-PXtJNnyVFH"
      }
    },
    {
      "cell_type": "code",
      "source": [
        "print(bool(\"true\"))\n",
        "print(bool())\n",
        "print(bool(\"false\"))\n",
        "print(bool({}))\n",
        "print(bool([]))"
      ],
      "metadata": {
        "colab": {
          "base_uri": "https://localhost:8080/"
        },
        "id": "CRZm4YAYyVW-",
        "outputId": "93814fc6-c84a-4c43-cc99-dd4189f5abb7"
      },
      "execution_count": 15,
      "outputs": [
        {
          "output_type": "stream",
          "name": "stdout",
          "text": [
            "True\n",
            "False\n",
            "True\n",
            "False\n",
            "False\n"
          ]
        }
      ]
    },
    {
      "cell_type": "markdown",
      "source": [
        "***Function can return Boolean***"
      ],
      "metadata": {
        "id": "goNutVi_zsRY"
      }
    },
    {
      "cell_type": "code",
      "source": [
        "def myfuntion():\n",
        "  return True\n",
        "\n",
        "  print(myfuntion())"
      ],
      "metadata": {
        "id": "hXOealQwz1NG"
      },
      "execution_count": 24,
      "outputs": []
    },
    {
      "cell_type": "code",
      "source": [
        "def myfuntion():\n",
        "  return False\n",
        "\n",
        "if myfuntion():\n",
        "    print(\"YES!\")\n",
        "else:\n",
        "    print(\"NO!\")"
      ],
      "metadata": {
        "colab": {
          "base_uri": "https://localhost:8080/"
        },
        "id": "fTBfSb2Y0RaW",
        "outputId": "f58ab0f9-7ebb-4ca0-e01f-d7ad0e647825"
      },
      "execution_count": 29,
      "outputs": [
        {
          "output_type": "stream",
          "name": "stdout",
          "text": [
            "NO!\n"
          ]
        }
      ]
    },
    {
      "cell_type": "code",
      "source": [
        "print(10 > 9)\n",
        "\n",
        "a=0\n",
        "b=7\n",
        "print(a==b)\n",
        "print(a!=a)"
      ],
      "metadata": {
        "colab": {
          "base_uri": "https://localhost:8080/"
        },
        "id": "O3AZ67wY1ggX",
        "outputId": "95f734b0-269d-4d66-fb7f-c569d2ceec2e"
      },
      "execution_count": 31,
      "outputs": [
        {
          "output_type": "stream",
          "name": "stdout",
          "text": [
            "True\n",
            "False\n",
            "False\n"
          ]
        }
      ]
    },
    {
      "cell_type": "markdown",
      "source": [
        "***Python Operators***"
      ],
      "metadata": {
        "id": "jRKMkoZh2DFm"
      }
    },
    {
      "cell_type": "code",
      "source": [
        "print(10+5)\n",
        "print(10-5)\n",
        "print(10*5)\n",
        "print(10/5)\n",
        "print(10//5)\n",
        "print(10**5)\n",
        "print(10%5)"
      ],
      "metadata": {
        "colab": {
          "base_uri": "https://localhost:8080/"
        },
        "id": "2oIcvEwd2HHH",
        "outputId": "3f644bb6-e59a-42b8-a7d1-7b8e3d2e472f"
      },
      "execution_count": 40,
      "outputs": [
        {
          "output_type": "stream",
          "name": "stdout",
          "text": [
            "15\n",
            "5\n",
            "50\n",
            "2.0\n",
            "2\n",
            "100000\n",
            "0\n"
          ]
        }
      ]
    },
    {
      "cell_type": "markdown",
      "source": [
        "***Bitwise Operator***"
      ],
      "metadata": {
        "id": "YEB5VD7X3V7n"
      }
    },
    {
      "cell_type": "code",
      "source": [
        "a = 60\n",
        "b = 13\n",
        "print(bin(-61))\n",
        "print(int(\"111101\",2))\n",
        "print(a&b)\n",
        "print(a|b)\n",
        "print(a^b)\n",
        "print(~a)\n",
        "print(a<<2)\n",
        "print(a>>2)"
      ],
      "metadata": {
        "colab": {
          "base_uri": "https://localhost:8080/"
        },
        "id": "IHeb44Pm3WP9",
        "outputId": "e75e7129-955e-4040-8847-d3d1ce1a25cd"
      },
      "execution_count": 69,
      "outputs": [
        {
          "output_type": "stream",
          "name": "stdout",
          "text": [
            "-0b111101\n",
            "61\n",
            "12\n",
            "61\n",
            "49\n",
            "-61\n",
            "240\n",
            "15\n"
          ]
        }
      ]
    },
    {
      "cell_type": "markdown",
      "source": [
        "***Python Assignment Operator***"
      ],
      "metadata": {
        "id": "gBQz50kqAqKA"
      }
    },
    {
      "cell_type": "code",
      "source": [
        "x=10\n",
        "\n",
        "x+=3\n",
        "print(x)\n",
        "\n",
        "x-=3\n",
        "print(x)\n",
        "\n",
        "x*=3\n",
        "print(x)\n",
        "\n",
        "x/=3\n",
        "print(x)\n",
        "\n",
        "x%=3\n",
        "print(x)\n",
        "\n",
        "x//=3\n",
        "print(x)\n",
        "\n",
        "x**=3\n",
        "print(x)"
      ],
      "metadata": {
        "colab": {
          "base_uri": "https://localhost:8080/"
        },
        "id": "9E_uo209-nmn",
        "outputId": "8d9221a2-e8b8-487f-935f-ea4586b1ea1b"
      },
      "execution_count": 66,
      "outputs": [
        {
          "output_type": "stream",
          "name": "stdout",
          "text": [
            "13\n",
            "10\n",
            "30\n",
            "10.0\n",
            "1.0\n",
            "0.0\n",
            "0.0\n"
          ]
        }
      ]
    },
    {
      "cell_type": "markdown",
      "source": [
        "***Logical Operator***"
      ],
      "metadata": {
        "id": "jdyzurqiCMPQ"
      }
    },
    {
      "cell_type": "code",
      "source": [
        "print(10 < 9 and 10 > 9)\n",
        "print(10 < 9 and not 10 < 9)\n",
        "print(10 < 9 or 10 < 9)\n",
        "print(not 10 < 9)"
      ],
      "metadata": {
        "colab": {
          "base_uri": "https://localhost:8080/"
        },
        "id": "71m9HvzXCMdn",
        "outputId": "9581af20-d087-44a5-92e8-403438668dea"
      },
      "execution_count": 76,
      "outputs": [
        {
          "output_type": "stream",
          "name": "stdout",
          "text": [
            "False\n",
            "False\n",
            "False\n",
            "True\n"
          ]
        }
      ]
    },
    {
      "cell_type": "markdown",
      "source": [
        "***Identity***"
      ],
      "metadata": {
        "id": "1-FoST-kG2FB"
      }
    },
    {
      "cell_type": "code",
      "source": [
        "x = 1\n",
        "y = 2\n",
        "print(x is y)\n",
        "print(x is not y)\n",
        "print(x is x)\n",
        "print(x is not x)"
      ],
      "metadata": {
        "colab": {
          "base_uri": "https://localhost:8080/"
        },
        "id": "WCopREDIG2bf",
        "outputId": "6f7d30ee-6952-44d1-c331-b5aaa4d30180"
      },
      "execution_count": 80,
      "outputs": [
        {
          "output_type": "stream",
          "name": "stdout",
          "text": [
            "False\n",
            "True\n",
            "True\n",
            "False\n",
            "False\n"
          ]
        }
      ]
    },
    {
      "cell_type": "markdown",
      "source": [
        "***Conditional Statement***"
      ],
      "metadata": {
        "id": "PUhL-p9WHI6O"
      }
    },
    {
      "cell_type": "markdown",
      "source": [
        "***if statement***"
      ],
      "metadata": {
        "id": "NhGETniYIgPx"
      }
    },
    {
      "cell_type": "code",
      "source": [
        "a = 12\n",
        "b = 100\n",
        "if b > a:\n",
        "  print(\"b is greater than a\")"
      ],
      "metadata": {
        "colab": {
          "base_uri": "https://localhost:8080/"
        },
        "id": "NSYS8dKUHJJ4",
        "outputId": "2d28b154-2291-4e98-be4d-d99fd5853e9a"
      },
      "execution_count": 83,
      "outputs": [
        {
          "output_type": "stream",
          "name": "stdout",
          "text": [
            "b is greater than a\n"
          ]
        }
      ]
    },
    {
      "cell_type": "code",
      "source": [
        "a = 12\n",
        "b = 100\n",
        "if b < a: #reversed\n",
        "  print(\"b is greater than a\")"
      ],
      "metadata": {
        "id": "7OuvUOpDI7Zw"
      },
      "execution_count": 84,
      "outputs": []
    },
    {
      "cell_type": "markdown",
      "source": [
        "***Eif(else if) Statement***"
      ],
      "metadata": {
        "id": "heE3yY7sMAMP"
      }
    },
    {
      "cell_type": "code",
      "source": [
        "a = 12\n",
        "b = 12\n",
        "if b > a:\n",
        "  print(\"b is greater than a\")\n",
        "elif a == b:\n",
        "  print(\"a and b are equal\")"
      ],
      "metadata": {
        "colab": {
          "base_uri": "https://localhost:8080/"
        },
        "id": "A40wWWt3MAbn",
        "outputId": "e7f736ac-83d6-492b-e2b3-0a75b2f9195b"
      },
      "execution_count": 85,
      "outputs": [
        {
          "output_type": "stream",
          "name": "stdout",
          "text": [
            "a and b are equal\n"
          ]
        }
      ]
    },
    {
      "cell_type": "markdown",
      "source": [
        "***Else Statement***"
      ],
      "metadata": {
        "id": "lnbAPhI9M3CB"
      }
    },
    {
      "cell_type": "code",
      "source": [
        "a = 200\n",
        "b = 58\n",
        "if b > a:\n",
        "  print(\"b is greater than a\")\n",
        "elif a == b:\n",
        "  print(\"a and b are equal\")\n",
        "else:\n",
        "  print(\"a is greater than b\")"
      ],
      "metadata": {
        "colab": {
          "base_uri": "https://localhost:8080/"
        },
        "id": "BeU0-k1qM3kA",
        "outputId": "8e301d84-8f00-4ea2-f90c-256b3a28a288"
      },
      "execution_count": 86,
      "outputs": [
        {
          "output_type": "stream",
          "name": "stdout",
          "text": [
            "a is greater than b\n"
          ]
        }
      ]
    },
    {
      "cell_type": "markdown",
      "source": [
        "***Short Hand if, else Statement***"
      ],
      "metadata": {
        "id": "-FvPrZI2Nbyu"
      }
    },
    {
      "cell_type": "code",
      "source": [
        "if a > b: print(\"a is greater than b\")\n",
        "\n",
        "c = 2\n",
        "d = 330\n",
        "print(\"c is greater than d\") if c > d else print(\"d is greater than c\")"
      ],
      "metadata": {
        "colab": {
          "base_uri": "https://localhost:8080/"
        },
        "id": "hvJPDdEuNcCe",
        "outputId": "c4f5d699-9c5f-4031-b1b5-2f6fa753b8f1"
      },
      "execution_count": 89,
      "outputs": [
        {
          "output_type": "stream",
          "name": "stdout",
          "text": [
            "a is greater than b\n",
            "d is greater than c\n"
          ]
        }
      ]
    },
    {
      "cell_type": "markdown",
      "source": [
        "***And-Both condtions are True***"
      ],
      "metadata": {
        "id": "4iraF3HMOQgo"
      }
    },
    {
      "cell_type": "code",
      "source": [
        "a = 200\n",
        "b = 33\n",
        "c = 500\n",
        "if a > b and c > a:\n",
        "  print(\"Both conditions are True\")"
      ],
      "metadata": {
        "colab": {
          "base_uri": "https://localhost:8080/"
        },
        "id": "cc6dduDPOQv_",
        "outputId": "d5a9b4ef-eeff-46b7-926f-0a8fbff78dce"
      },
      "execution_count": 91,
      "outputs": [
        {
          "output_type": "stream",
          "name": "stdout",
          "text": [
            "Both conditions are True\n"
          ]
        }
      ]
    },
    {
      "cell_type": "markdown",
      "source": [
        "***Or-atlease one of the condtions is true***"
      ],
      "metadata": {
        "id": "fyS9irypOUfY"
      }
    },
    {
      "cell_type": "code",
      "source": [
        "a = 200\n",
        "b = 33\n",
        "c = 500\n",
        "if a > b  or a > c:\n",
        "  print(\"At least one of the conditions is True\")"
      ],
      "metadata": {
        "colab": {
          "base_uri": "https://localhost:8080/"
        },
        "id": "16StfPIkOUth",
        "outputId": "559565ef-2d39-4cb7-ddb1-734e12e7c1db"
      },
      "execution_count": 90,
      "outputs": [
        {
          "output_type": "stream",
          "name": "stdout",
          "text": [
            "At least one of the conditions is True\n"
          ]
        }
      ]
    },
    {
      "cell_type": "markdown",
      "source": [
        "***Nested if, else***"
      ],
      "metadata": {
        "id": "jxwxe28-PiZq"
      }
    },
    {
      "cell_type": "code",
      "source": [
        "x = 30\n",
        "\n",
        "if x > 10:\n",
        "  print(\"Above ten,\")\n",
        "  if x > 20:\n",
        "    print(\"and also above 20!\")\n",
        "    if x > 30:\n",
        "      print(\"and also above 30!\")\n",
        "      if x > 40:\n",
        "        print(\"and also above 40!\")\n",
        "        if x > 50:\n",
        "          print(\"and also above 50!\")\n",
        "        else:\n",
        "           print(\"but not above 50.\")\n",
        "      else:\n",
        "         print(\"but not above 40.\")\n",
        "    else:\n",
        "       print(\"but not above 30.\")\n",
        "  else:\n",
        "     print(\"but not above 20.\")\n",
        "else:\n",
        "   print(\"but not above 10.\")"
      ],
      "metadata": {
        "colab": {
          "base_uri": "https://localhost:8080/"
        },
        "id": "e_doyJgaPmHK",
        "outputId": "a87f9010-efb7-406f-b1eb-556e785d13ab"
      },
      "execution_count": 121,
      "outputs": [
        {
          "output_type": "stream",
          "name": "stdout",
          "text": [
            "Above ten,\n",
            "and also above 20!\n",
            "but not above 30.\n"
          ]
        }
      ]
    },
    {
      "cell_type": "markdown",
      "source": [
        "***Example #1***"
      ],
      "metadata": {
        "id": "ogAWi2gYXKKI"
      }
    },
    {
      "cell_type": "code",
      "source": [
        "age = int(input(\"Enter Age: \"))\n",
        "\n",
        "if age >= 18: print(\"You are eligible to vote\")\n",
        "else: print(\"You are not eligible to vote\")"
      ],
      "metadata": {
        "colab": {
          "base_uri": "https://localhost:8080/"
        },
        "id": "orC96hPlXKbI",
        "outputId": "2231d2cc-a4db-4bfa-c299-049fc71f3a2b"
      },
      "execution_count": 123,
      "outputs": [
        {
          "output_type": "stream",
          "name": "stdout",
          "text": [
            "Enter Age: 22\n",
            "You are eligible to vote\n"
          ]
        }
      ]
    },
    {
      "cell_type": "markdown",
      "source": [
        "***Example #2***"
      ],
      "metadata": {
        "id": "C2MVQBzAYIHA"
      }
    },
    {
      "cell_type": "code",
      "source": [
        "number = int(input(\"Input a Number:\"))\n",
        "\n",
        "if number > 0: print(\"Number is positive\")\n",
        "if number < 0: print(\"Number is negative\")\n",
        "else: print(\"Number is zero\")"
      ],
      "metadata": {
        "colab": {
          "base_uri": "https://localhost:8080/"
        },
        "id": "6i7_1Q6IYHrB",
        "outputId": "204f65bf-4272-4912-d948-a44285babd08"
      },
      "execution_count": 127,
      "outputs": [
        {
          "output_type": "stream",
          "name": "stdout",
          "text": [
            "Input a Number:-12\n",
            "Number is negative\n"
          ]
        }
      ]
    },
    {
      "cell_type": "markdown",
      "source": [
        "***Example #3***"
      ],
      "metadata": {
        "id": "EDTyO8-_ZXm5"
      }
    },
    {
      "cell_type": "code",
      "source": [
        "grade = int(input(\"Input a Grade: \"))\n",
        "\n",
        "if grade > 75: print(\"Passed\")\n",
        "if grade == 75: print(\"Remedial\")\n",
        "elif grade < 75: print(\"Failed\")"
      ],
      "metadata": {
        "colab": {
          "base_uri": "https://localhost:8080/"
        },
        "id": "zl99D7HaZX56",
        "outputId": "7d7ab4b7-cb86-4602-e25d-69b2b781cdc4"
      },
      "execution_count": 132,
      "outputs": [
        {
          "output_type": "stream",
          "name": "stdout",
          "text": [
            "Input a Grade: 75\n",
            "Remedial\n"
          ]
        }
      ]
    }
  ]
}