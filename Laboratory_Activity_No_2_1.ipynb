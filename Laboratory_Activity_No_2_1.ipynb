{
  "nbformat": 4,
  "nbformat_minor": 0,
  "metadata": {
    "colab": {
      "provenance": [],
      "authorship_tag": "ABX9TyN4wMfgAdqREByMjGPno4sI",
      "include_colab_link": true
    },
    "kernelspec": {
      "name": "python3",
      "display_name": "Python 3"
    },
    "language_info": {
      "name": "python"
    }
  },
  "cells": [
    {
      "cell_type": "markdown",
      "metadata": {
        "id": "view-in-github",
        "colab_type": "text"
      },
      "source": [
        "<a href=\"https://colab.research.google.com/github/LabialzernanJRT/CPE-103-OOP-1-A/blob/main/Laboratory_Activity_No_2_1.ipynb\" target=\"_parent\"><img src=\"https://colab.research.google.com/assets/colab-badge.svg\" alt=\"Open In Colab\"/></a>"
      ]
    },
    {
      "cell_type": "markdown",
      "source": [
        "***Assigning variables of different data types in Python***"
      ],
      "metadata": {
        "id": "4Cil-iVY_y-x"
      }
    },
    {
      "cell_type": "markdown",
      "source": [
        "**NO**. 1"
      ],
      "metadata": {
        "id": "yXxjS9ypqaO7"
      }
    },
    {
      "cell_type": "code",
      "source": [
        "value = 5\n",
        "print(5)"
      ],
      "metadata": {
        "colab": {
          "base_uri": "https://localhost:8080/"
        },
        "id": "FUgIwOqEm0ib",
        "outputId": "6436a355-c8a7-4394-9fa1-5db663be583f"
      },
      "execution_count": 1,
      "outputs": [
        {
          "output_type": "stream",
          "name": "stdout",
          "text": [
            "5\n"
          ]
        }
      ]
    },
    {
      "cell_type": "markdown",
      "source": [
        "**NO. 2**"
      ],
      "metadata": {
        "id": "eaNYZ4Tdqf7z"
      }
    },
    {
      "cell_type": "code",
      "source": [
        "type(value)"
      ],
      "metadata": {
        "colab": {
          "base_uri": "https://localhost:8080/"
        },
        "id": "nIWldYwnnE_7",
        "outputId": "7a2d031b-a738-482f-ad70-d552bfa5b6dc"
      },
      "execution_count": 2,
      "outputs": [
        {
          "output_type": "execute_result",
          "data": {
            "text/plain": [
              "int"
            ]
          },
          "metadata": {},
          "execution_count": 2
        }
      ]
    },
    {
      "cell_type": "markdown",
      "source": [
        "**NO. 3**"
      ],
      "metadata": {
        "id": "8Od__zmbqiOr"
      }
    },
    {
      "cell_type": "code",
      "source": [
        "value = 5.0\n",
        "print(type(5.0))"
      ],
      "metadata": {
        "colab": {
          "base_uri": "https://localhost:8080/"
        },
        "id": "7vAhRpcgqHYk",
        "outputId": "828bb16c-d9c1-480d-9a9d-0dd3f7ed655b"
      },
      "execution_count": 42,
      "outputs": [
        {
          "output_type": "stream",
          "name": "stdout",
          "text": [
            "<class 'float'>\n"
          ]
        }
      ]
    },
    {
      "cell_type": "markdown",
      "source": [
        "**NO. 4**"
      ],
      "metadata": {
        "id": "ozSQg8S-qvpb"
      }
    },
    {
      "cell_type": "code",
      "source": [
        "value = value\n",
        "print(type(value))"
      ],
      "metadata": {
        "colab": {
          "base_uri": "https://localhost:8080/"
        },
        "id": "1cFV6ixtrC-q",
        "outputId": "094e91b4-5699-49ba-d079-b42c386f42b8"
      },
      "execution_count": 43,
      "outputs": [
        {
          "output_type": "stream",
          "name": "stdout",
          "text": [
            "<class 'float'>\n"
          ]
        }
      ]
    },
    {
      "cell_type": "markdown",
      "source": [
        "**NO. 5**"
      ],
      "metadata": {
        "id": "dY4plb8FrDU7"
      }
    },
    {
      "cell_type": "code",
      "source": [
        "value = 2+3j\n",
        "print(type(2+3j))"
      ],
      "metadata": {
        "colab": {
          "base_uri": "https://localhost:8080/"
        },
        "id": "jwkCj2ImnS-q",
        "outputId": "a6e190e4-3662-44e3-f5e4-fa601314335d"
      },
      "execution_count": 44,
      "outputs": [
        {
          "output_type": "stream",
          "name": "stdout",
          "text": [
            "<class 'complex'>\n"
          ]
        }
      ]
    },
    {
      "cell_type": "code",
      "source": [
        "value = 'Hello World'\n",
        "print(type('Hello World'))"
      ],
      "metadata": {
        "colab": {
          "base_uri": "https://localhost:8080/"
        },
        "id": "O7mbLC4rnTRy",
        "outputId": "5bf2c2dd-f034-4d6d-d835-0601e650ddbd"
      },
      "execution_count": 45,
      "outputs": [
        {
          "output_type": "stream",
          "name": "stdout",
          "text": [
            "<class 'str'>\n"
          ]
        }
      ]
    },
    {
      "cell_type": "code",
      "source": [
        "value = \"Hello World\"\n",
        "print(type(\"Hello World\"))"
      ],
      "metadata": {
        "colab": {
          "base_uri": "https://localhost:8080/"
        },
        "id": "n7FWArAVo6jy",
        "outputId": "9bf5abe6-ea07-43fa-ecc1-92be2875e232"
      },
      "execution_count": 47,
      "outputs": [
        {
          "output_type": "stream",
          "name": "stdout",
          "text": [
            "<class 'str'>\n"
          ]
        }
      ]
    },
    {
      "cell_type": "code",
      "source": [
        "value = True\n",
        "print(type(True))"
      ],
      "metadata": {
        "colab": {
          "base_uri": "https://localhost:8080/"
        },
        "id": "7PRBq82Zo6wD",
        "outputId": "497ec5ce-e94e-473b-8f22-4b20b4810841"
      },
      "execution_count": 48,
      "outputs": [
        {
          "output_type": "stream",
          "name": "stdout",
          "text": [
            "<class 'bool'>\n"
          ]
        }
      ]
    },
    {
      "cell_type": "code",
      "source": [
        "value = False\n",
        "print(type(False))"
      ],
      "metadata": {
        "colab": {
          "base_uri": "https://localhost:8080/"
        },
        "id": "8EO5R1NxpZxd",
        "outputId": "4978c23c-e82a-45b6-9a32-11778ff587ad"
      },
      "execution_count": 49,
      "outputs": [
        {
          "output_type": "stream",
          "name": "stdout",
          "text": [
            "<class 'bool'>\n"
          ]
        }
      ]
    },
    {
      "cell_type": "code",
      "source": [
        "value = [1,2,3,4,5]\n",
        "print(type([1,2,3,4,5]))"
      ],
      "metadata": {
        "colab": {
          "base_uri": "https://localhost:8080/"
        },
        "id": "H-UZsmxjo66r",
        "outputId": "e46b3310-3844-4d30-a1af-a325eaad268d"
      },
      "execution_count": 50,
      "outputs": [
        {
          "output_type": "stream",
          "name": "stdout",
          "text": [
            "<class 'list'>\n"
          ]
        }
      ]
    },
    {
      "cell_type": "code",
      "source": [
        "value = (1,2,3,4,5)\n",
        "print(type((1,2,3,4,5)))"
      ],
      "metadata": {
        "colab": {
          "base_uri": "https://localhost:8080/"
        },
        "id": "LF7gqK6yo7Gy",
        "outputId": "e83ecf96-9339-4b05-9092-a7c8c656a898"
      },
      "execution_count": 51,
      "outputs": [
        {
          "output_type": "stream",
          "name": "stdout",
          "text": [
            "<class 'tuple'>\n"
          ]
        }
      ]
    },
    {
      "cell_type": "code",
      "source": [
        "value = { 'name': 'Your_name' }\n",
        "print(type({ 'name': 'Your_name' }))"
      ],
      "metadata": {
        "colab": {
          "base_uri": "https://localhost:8080/"
        },
        "id": "_Nppbv0mo7Uj",
        "outputId": "0e04cd47-6f6d-484a-b4db-50ae9140630a"
      },
      "execution_count": 52,
      "outputs": [
        {
          "output_type": "stream",
          "name": "stdout",
          "text": [
            "<class 'dict'>\n"
          ]
        }
      ]
    },
    {
      "cell_type": "code",
      "source": [
        "value = None\n",
        "print(type(None))"
      ],
      "metadata": {
        "colab": {
          "base_uri": "https://localhost:8080/"
        },
        "id": "zt3RvkRdp3bD",
        "outputId": "1213398e-c8b9-4ada-d9d5-7a4989b772cd"
      },
      "execution_count": 53,
      "outputs": [
        {
          "output_type": "stream",
          "name": "stdout",
          "text": [
            "<class 'NoneType'>\n"
          ]
        }
      ]
    },
    {
      "cell_type": "markdown",
      "source": [
        "**NO**. **6**"
      ],
      "metadata": {
        "id": "ucmleMiSr40T"
      }
    },
    {
      "cell_type": "code",
      "source": [
        "value = 5\n",
        "value2 = -6\n",
        "print(type(value),type(value2))"
      ],
      "metadata": {
        "colab": {
          "base_uri": "https://localhost:8080/"
        },
        "id": "NiP38ZnOp3nj",
        "outputId": "c958132b-afce-4a0f-eec1-f77fb327533d"
      },
      "execution_count": 55,
      "outputs": [
        {
          "output_type": "stream",
          "name": "stdout",
          "text": [
            "<class 'int'> <class 'int'>\n"
          ]
        }
      ]
    },
    {
      "cell_type": "markdown",
      "source": [
        "***Performing Operations with Python***\n"
      ],
      "metadata": {
        "id": "1TIUQvpit51r"
      }
    },
    {
      "cell_type": "markdown",
      "source": [
        "**Num. 1**"
      ],
      "metadata": {
        "id": "1V-S7MXlxQML"
      }
    },
    {
      "cell_type": "code",
      "source": [
        "value, value2 = 5, -6\n",
        "print(value + value2)\n"
      ],
      "metadata": {
        "colab": {
          "base_uri": "https://localhost:8080/"
        },
        "id": "f5sxzqy_t6ck",
        "outputId": "53bd329f-bc53-4af3-eebc-aa1c18be9bc7"
      },
      "execution_count": 79,
      "outputs": [
        {
          "output_type": "stream",
          "name": "stdout",
          "text": [
            "-1\n"
          ]
        }
      ]
    },
    {
      "cell_type": "markdown",
      "source": [
        "**Num. 2**"
      ],
      "metadata": {
        "id": "1O6NJN6qxVfa"
      }
    },
    {
      "cell_type": "code",
      "source": [
        "#a :\n",
        "value, value2 = 5.0, 6\n",
        "print(value + value2)\n",
        "\n",
        "#b :\n",
        "value, value2 = -5, 6.1\n",
        "print(value + value2)\n",
        "\n",
        "#c :\n",
        "value, value2 = \"Hello\",\" \"'world'\n",
        "print(value + value2)\n",
        "\n",
        "#d :\n",
        "value, value2 = [1,2,3], [4,5,6]\n",
        "print(value + value2)\n",
        "\n",
        "#e :\n",
        "value, value2 = (1,2,3), (4,5,6)\n",
        "print(value + value2)\n",
        "\n",
        "#f :\n",
        "value, value2 = {\"name\":\"Royce\"}, {'age':2}\n",
        "value.update(value2)\n",
        "print(value)"
      ],
      "metadata": {
        "colab": {
          "base_uri": "https://localhost:8080/"
        },
        "id": "PDsdeXOCuvFr",
        "outputId": "75ccb5ef-111a-48b9-b62b-f24484e9c02b"
      },
      "execution_count": 85,
      "outputs": [
        {
          "output_type": "stream",
          "name": "stdout",
          "text": [
            "11.0\n",
            "1.0999999999999996\n",
            "Hello world\n",
            "[1, 2, 3, 4, 5, 6]\n",
            "(1, 2, 3, 4, 5, 6)\n",
            "{'name': 'Royce', 'age': 2}\n"
          ]
        }
      ]
    },
    {
      "cell_type": "markdown",
      "source": [
        "**Num. 3**"
      ],
      "metadata": {
        "id": "bDGTVVx-xYlj"
      }
    },
    {
      "cell_type": "code",
      "source": [
        "value, value2 = 30, 4\n",
        "\n",
        "#a\n",
        "print(value*value2)\n",
        "\n",
        "#b :\n",
        "print(value2**2)\n",
        "\n",
        "#c :\n",
        "print(value2**3)\n",
        "\n",
        "#d :\n",
        "print(value*value2+value2**2+1)\n",
        "\n",
        "#e :\n",
        "print(value/value2)\n",
        "\n",
        "#f :\n",
        "print(value%value2)"
      ],
      "metadata": {
        "colab": {
          "base_uri": "https://localhost:8080/"
        },
        "id": "Ty4WQdOFuyO7",
        "outputId": "7201bd33-9c74-493b-ab1c-2c7714d45b64"
      },
      "execution_count": 76,
      "outputs": [
        {
          "output_type": "stream",
          "name": "stdout",
          "text": [
            "120\n",
            "16\n",
            "64\n",
            "137\n",
            "7.5\n",
            "2\n"
          ]
        }
      ]
    },
    {
      "cell_type": "markdown",
      "source": [
        "**Receiving Input Data using Python**"
      ],
      "metadata": {
        "id": "Ii2BnEiMyqA0"
      }
    },
    {
      "cell_type": "code",
      "source": [
        "print(input(\"Message Name\"))"
      ],
      "metadata": {
        "colab": {
          "base_uri": "https://localhost:8080/"
        },
        "id": "sdl8fCkMyw7r",
        "outputId": "aec2e41d-b814-4585-8d37-b67f446b2985"
      },
      "execution_count": 92,
      "outputs": [
        {
          "output_type": "stream",
          "name": "stdout",
          "text": [
            "Message Namelabia\n",
            "labia\n"
          ]
        }
      ]
    },
    {
      "cell_type": "code",
      "source": [
        "name = input(\"Enter your name: \")"
      ],
      "metadata": {
        "colab": {
          "base_uri": "https://localhost:8080/"
        },
        "id": "IAD-l6kszNeM",
        "outputId": "ee3dcd86-bf49-47de-c159-7f26ef6e8cdf"
      },
      "execution_count": 94,
      "outputs": [
        {
          "name": "stdout",
          "output_type": "stream",
          "text": [
            "Enter your name: labial\n"
          ]
        }
      ]
    },
    {
      "cell_type": "markdown",
      "source": [
        "**Assigning Input Data to a Variable**"
      ],
      "metadata": {
        "id": "TybIDoKYzxLW"
      }
    },
    {
      "cell_type": "code",
      "source": [
        "name = input(\"Enter your name \")\n",
        "weight = float(input(\"Enter your weight(kg): \"))\n",
        "height = float(input(\"Enter your height \"))\n",
        "bmi = weight/(height**2)\n",
        "print(bmi)"
      ],
      "metadata": {
        "colab": {
          "base_uri": "https://localhost:8080/"
        },
        "id": "wKQgnJJ9zzD_",
        "outputId": "38cb5abb-fedc-4774-95d7-651ddcc060ca"
      },
      "execution_count": 103,
      "outputs": [
        {
          "output_type": "stream",
          "name": "stdout",
          "text": [
            "Enter your name John Ray\n",
            "Enter your weight(kg): 60\n",
            "Enter your height 1.6764\n",
            "21.349904958763087\n"
          ]
        }
      ]
    },
    {
      "cell_type": "markdown",
      "source": [
        "***Supplementary Activity:***"
      ],
      "metadata": {
        "id": "Y5ZHTrzG4HOF"
      }
    },
    {
      "cell_type": "markdown",
      "source": [
        "**Tasks #1**"
      ],
      "metadata": {
        "id": "JnyVX0hm4LzW"
      }
    },
    {
      "cell_type": "code",
      "source": [
        "base = 0\n",
        "height = 0\n",
        "area = 0\n",
        "\n",
        "base = float(input(\"Enter the base of the triangle: \"))\n",
        "height = float(input(\"Enter the height of the triangle: \"))\n",
        "area = (base*height)/2\n",
        "print(\"The area of the triangle is \" + str(area))"
      ],
      "metadata": {
        "colab": {
          "base_uri": "https://localhost:8080/"
        },
        "id": "ExKzis7B4Qo-",
        "outputId": "9d5e9f33-78e9-4ca1-9f7e-926ac6089aac"
      },
      "execution_count": 112,
      "outputs": [
        {
          "output_type": "stream",
          "name": "stdout",
          "text": [
            "Enter the base of the triangle: 10\n",
            "Enter the height of the triangle: 20\n",
            "The area of the triangle is 100.0\n"
          ]
        }
      ]
    },
    {
      "cell_type": "markdown",
      "source": [
        "**Tasks #2**"
      ],
      "metadata": {
        "id": "zjzdkaSl4RhW"
      }
    },
    {
      "cell_type": "code",
      "source": [
        "celcius = float(input(\"Enter the temperature in celcius: \"))\n",
        "fahrenheit = (celcius*9/5)+32\n",
        "print(\"The temperature in fahrenheit is \" + str(fahrenheit))"
      ],
      "metadata": {
        "colab": {
          "base_uri": "https://localhost:8080/"
        },
        "id": "1w1fIfsI72ks",
        "outputId": "75040c5a-0081-4c52-f645-d47c843a555b"
      },
      "execution_count": 116,
      "outputs": [
        {
          "output_type": "stream",
          "name": "stdout",
          "text": [
            "Enter the temperature in celcius: 0\n",
            "The temperature in fahrenheit is 32.0\n"
          ]
        }
      ]
    },
    {
      "cell_type": "markdown",
      "source": [
        "**Tasks #3**"
      ],
      "metadata": {
        "id": "ZY-o0blO4SBG"
      }
    },
    {
      "cell_type": "code",
      "source": [
        "x2, y2 = float(input(\"Enter the x2: \")), float(input(\"Enter the y2: \"))\n",
        "x1, y1 = float(input(\"Enter the x1: \")), float(input(\"Enter the y1: \"))\n",
        "distance = ((x2-x1)**2+(y2-y1)**2)**0.5\n",
        "print(\"The distance between the two points is \" + str(distance))"
      ],
      "metadata": {
        "colab": {
          "base_uri": "https://localhost:8080/"
        },
        "id": "L2U3jGEi4SS-",
        "outputId": "1cc064d8-393d-4bcd-afe9-53b47a4bfda7"
      },
      "execution_count": 117,
      "outputs": [
        {
          "output_type": "stream",
          "name": "stdout",
          "text": [
            "Enter the x2: -3\n",
            "Enter the y2: 3\n",
            "Enter the x1: 2\n",
            "Enter the y1: 2\n",
            "The distance between the two points is 5.0990195135927845\n"
          ]
        }
      ]
    }
  ]
}